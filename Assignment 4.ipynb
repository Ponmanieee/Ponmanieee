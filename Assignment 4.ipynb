{
 "cells": [
  {
   "cell_type": "code",
   "execution_count": 3,
   "id": "f54ec6d6",
   "metadata": {},
   "outputs": [
    {
     "name": "stdout",
     "output_type": "stream",
     "text": [
      "240\n"
     ]
    }
   ],
   "source": [
    "#1. Write a Python function to multiply all the numbers in a list.\n",
    "def mul(lst):\n",
    "    result=1\n",
    "    for i in lst:\n",
    "        result = result*i\n",
    "    return result\n",
    "\n",
    "res = mul([5,2,4,6])\n",
    "print(res)"
   ]
  },
  {
   "cell_type": "code",
   "execution_count": 11,
   "id": "7a6ec7dc",
   "metadata": {},
   "outputs": [
    {
     "name": "stdout",
     "output_type": "stream",
     "text": [
      "FEDCBA\n",
      "FEDCBA\n"
     ]
    }
   ],
   "source": [
    "#2. Write a Python function to reverse a string\n",
    "#i) use for loop\n",
    "#ii) use while loop\n",
    "str = 'ABCDEF'\n",
    "out=[]\n",
    "for i in range (len(str)):\n",
    "    out.append(str[len(str)-(i+1)])\n",
    "out=''.join(out)\n",
    "print (out)\n",
    "\n",
    "str = 'ABCDEF'\n",
    "out=[]\n",
    "i=0\n",
    "while (i <len(str)):\n",
    "    out.append(str[len(str)-(i+1)])\n",
    "    i+=1\n",
    "out=''.join(out)\n",
    "print (out)"
   ]
  },
  {
   "cell_type": "code",
   "execution_count": 13,
   "id": "0014720d",
   "metadata": {},
   "outputs": [
    {
     "name": "stdout",
     "output_type": "stream",
     "text": [
      "addition of 2 nums  6\n",
      "Subtraction of 2nd num from 1st number  2\n"
     ]
    }
   ],
   "source": [
    "#3. Write a function to add and subtract two variables\n",
    "def arithmetic_op(a,b):\n",
    "    add=a+b\n",
    "    sub= a-b\n",
    "    return add, sub\n",
    "\n",
    "add, sub=arithmetic_op(4,2)\n",
    "print('addition of 2 nums ', add)\n",
    "print('Subtraction of 2nd num from 1st number ', sub)"
   ]
  },
  {
   "cell_type": "code",
   "execution_count": 16,
   "id": "8f762e19",
   "metadata": {},
   "outputs": [
    {
     "data": {
      "text/plain": [
       "True"
      ]
     },
     "execution_count": 16,
     "metadata": {},
     "output_type": "execute_result"
    }
   ],
   "source": [
    "#4. Write a function to check the number is divisible by 12\n",
    "def check(num):\n",
    "    if num%12 ==0:\n",
    "        return True\n",
    "    else:\n",
    "        return False\n",
    "check(360)"
   ]
  },
  {
   "cell_type": "code",
   "execution_count": 17,
   "id": "b168cf13",
   "metadata": {},
   "outputs": [
    {
     "name": "stdout",
     "output_type": "stream",
     "text": [
      "52 no of weeks and  2 no of days\n"
     ]
    }
   ],
   "source": [
    "#5. Write a function to calculate the number of days and weeks\n",
    "\n",
    "#considering number of days is given and it should be represented as weeks and days\n",
    "def func(inp_days):\n",
    "    weeks = inp_days//7\n",
    "    days = inp_days%7\n",
    "    return weeks, days\n",
    "wk, dy = func(366)\n",
    "print (wk, 'no of weeks and ', dy ,'no of days')\n"
   ]
  },
  {
   "cell_type": "code",
   "execution_count": 19,
   "id": "8f8ec469",
   "metadata": {},
   "outputs": [
    {
     "data": {
      "text/plain": [
       "720"
      ]
     },
     "execution_count": 19,
     "metadata": {},
     "output_type": "execute_result"
    }
   ],
   "source": [
    "#6.Write a Python function to Find the 5!?\n",
    "def fact(num):\n",
    "    if num <=1:\n",
    "        return 1\n",
    "    else:\n",
    "        return num*fact(num-1)\n",
    "fact(6)"
   ]
  },
  {
   "cell_type": "code",
   "execution_count": 20,
   "id": "31c68057",
   "metadata": {},
   "outputs": [
    {
     "data": {
      "text/plain": [
       "{1, 2, 3, 4, 5, 6, 7, 34, 654}"
      ]
     },
     "execution_count": 20,
     "metadata": {},
     "output_type": "execute_result"
    }
   ],
   "source": [
    "#7. Write a Python function to find the unique elements of the list = [1,2,3,3,3,3,4,5,4,2,4,2,4,4,2,4,5,4,34,654,5,7,6,5,4,3]\n",
    "\n",
    "def unique_ele(lst):\n",
    "    set1 = set(lst)\n",
    "    return set1\n",
    "lst = [1,2,3,3,3,3,4,5,4,2,4,2,4,4,2,4,5,4,34,654,5,7,6,5,4,3]\n",
    "unique_ele(lst)"
   ]
  },
  {
   "cell_type": "code",
   "execution_count": 30,
   "id": "e5c3e2b4",
   "metadata": {},
   "outputs": [
    {
     "name": "stdout",
     "output_type": "stream",
     "text": [
      "851.9999999999999\n"
     ]
    }
   ],
   "source": [
    "'''1. Required arguments:\n",
    "Write a program to calculate Simple Interest which accepts three arguments and returns the simple interest accordingly\n",
    "'''\n",
    "def SI(P,n,i):\n",
    "    return P*n*(i/100)\n",
    "\n",
    "print('{:.2f}'.format(SI(1000,12, 7.1)))"
   ]
  },
  {
   "cell_type": "code",
   "execution_count": 21,
   "id": "498b391b",
   "metadata": {},
   "outputs": [
    {
     "name": "stdout",
     "output_type": "stream",
     "text": [
      "Hello Guvi\n"
     ]
    }
   ],
   "source": [
    "'''2.Keyword arguments:\n",
    "Write a function which will be called with the name and message as the keyword arguments.\n",
    "Output will be \"printing the message with 'name' and  'message'\"\n",
    "'''\n",
    "def func(name, msg):\n",
    "    print(msg, name)\n",
    "func(msg='Hello', name='Guvi')"
   ]
  },
  {
   "cell_type": "code",
   "execution_count": 33,
   "id": "43f62028",
   "metadata": {},
   "outputs": [
    {
     "name": "stdout",
     "output_type": "stream",
     "text": [
      "My name is  Guvi and age is  27\n"
     ]
    }
   ],
   "source": [
    "'''3.Default Arguments:\n",
    "Write a function which will be called with the name as keyword argument and age as the default arguments. \n",
    "Output will be \"My name is 'name' and 'age is 27'\"\n",
    "'''\n",
    "def msg(name, age=27):\n",
    "    print('My name is ', name, 'and age is ', age)\n",
    "msg('Guvi')"
   ]
  },
  {
   "cell_type": "markdown",
   "id": "540a4656",
   "metadata": {},
   "source": [
    "## LAMBDA FUNCTION\n"
   ]
  },
  {
   "cell_type": "code",
   "execution_count": 37,
   "id": "cc41998b",
   "metadata": {},
   "outputs": [
    {
     "name": "stdout",
     "output_type": "stream",
     "text": [
      "5\n"
     ]
    },
    {
     "data": {
      "text/plain": [
       "'odd'"
      ]
     },
     "execution_count": 37,
     "metadata": {},
     "output_type": "execute_result"
    }
   ],
   "source": [
    "'''1. Get a number from user,  find if it is even or odd number?'''\n",
    "inp = int(input())\n",
    "func= lambda inp:'Even' if inp%2==0 else 'odd'\n",
    "func(inp)"
   ]
  },
  {
   "cell_type": "code",
   "execution_count": 39,
   "id": "ca87f166",
   "metadata": {},
   "outputs": [
    {
     "name": "stdout",
     "output_type": "stream",
     "text": [
      "7\n"
     ]
    },
    {
     "data": {
      "text/plain": [
       "49"
      ]
     },
     "execution_count": 39,
     "metadata": {},
     "output_type": "execute_result"
    }
   ],
   "source": [
    "'''2. Take a input from user and  square it'''\n",
    "inp = int(input())\n",
    "func= lambda inp:inp**2\n",
    "func(inp)"
   ]
  },
  {
   "cell_type": "code",
   "execution_count": 42,
   "id": "95f82788",
   "metadata": {},
   "outputs": [
    {
     "name": "stdout",
     "output_type": "stream",
     "text": [
      "50\n"
     ]
    },
    {
     "data": {
      "text/plain": [
       "False"
      ]
     },
     "execution_count": 42,
     "metadata": {},
     "output_type": "execute_result"
    }
   ],
   "source": [
    "'''3. Write a lambda function using logical operators?\n",
    "\n",
    "Hint:\n",
    "Check x < 10\n",
    "Output: False / True\n",
    "'''\n",
    "inp = int(input())\n",
    "func= lambda inp:inp<10\n",
    "func(inp)"
   ]
  },
  {
   "cell_type": "code",
   "execution_count": 44,
   "id": "adba95b9",
   "metadata": {},
   "outputs": [
    {
     "name": "stdout",
     "output_type": "stream",
     "text": [
      "6\n"
     ]
    },
    {
     "data": {
      "text/plain": [
       "11"
      ]
     },
     "execution_count": 44,
     "metadata": {},
     "output_type": "execute_result"
    }
   ],
   "source": [
    "'''4. Take an integer input from the user,  add 5 to the number and print it back?'''\n",
    "inp = int(input())\n",
    "func= lambda inp:inp+5\n",
    "func(inp)"
   ]
  },
  {
   "cell_type": "markdown",
   "id": "b77eb1cb",
   "metadata": {},
   "source": [
    "## MAP"
   ]
  },
  {
   "cell_type": "code",
   "execution_count": 1,
   "id": "fd826eda",
   "metadata": {},
   "outputs": [
    {
     "name": "stdout",
     "output_type": "stream",
     "text": [
      "[53, 78, 105]\n"
     ]
    }
   ],
   "source": [
    "'''1. Add two lists using map ()\n",
    "    lis1 = [12, 24, 36]\n",
    "    lis2 = [41, 54, 69]\n",
    "   \n",
    "    Output:\n",
    "    [53, 78, 105]\n",
    "'''\n",
    "lis1 = [12, 24, 36]\n",
    "lis2 = [41, 54, 69]\n",
    "out = list(map(lambda a,b:a+b, lis1, lis2))\n",
    "print(out)"
   ]
  },
  {
   "cell_type": "code",
   "execution_count": 2,
   "id": "fe6376ea",
   "metadata": {},
   "outputs": [
    {
     "data": {
      "text/plain": [
       "[1, 4, 9, 16, 25, 36, 49]"
      ]
     },
     "execution_count": 2,
     "metadata": {},
     "output_type": "execute_result"
    }
   ],
   "source": [
    "'''2. Use Lambda and map functions on a List, to square each element in the list = [1, 2, 3, 4, 5, 6, 7]'''\n",
    "lst = [1, 2, 3, 4, 5, 6, 7]\n",
    "out = list(map(lambda i:i**2, lst))\n",
    "out"
   ]
  },
  {
   "cell_type": "code",
   "execution_count": 3,
   "id": "c8831249",
   "metadata": {},
   "outputs": [
    {
     "data": {
      "text/plain": [
       "['Odd', 'Even', 'Odd', 'Even', 'Odd', 'Even', 'Odd']"
      ]
     },
     "execution_count": 3,
     "metadata": {},
     "output_type": "execute_result"
    }
   ],
   "source": [
    "'''3.In the given list [1, 2, 3, 4, 5, 6, 7], find the even and odd elements in the list, use the map()function'''\n",
    "lst = [1, 2, 3, 4, 5, 6, 7]\n",
    "out = list(map(lambda i:'Even' if i%2==0 else 'Odd', lst))\n",
    "out"
   ]
  },
  {
   "cell_type": "code",
   "execution_count": 5,
   "id": "59646994",
   "metadata": {},
   "outputs": [
    {
     "name": "stdout",
     "output_type": "stream",
     "text": [
      "[1, 1, 1, 2, 62, 0, 3]\n"
     ]
    }
   ],
   "source": [
    "'''\n",
    "4. In the given list [11, 12, 13, 14, 435, 6, 27], perform the Floor division using 7 on each elements on the list\n",
    "'''\n",
    "lst= [11, 12, 13, 14, 435, 6, 27]\n",
    "out = list(map(lambda x:x//7, lst))\n",
    "print(out)"
   ]
  },
  {
   "cell_type": "markdown",
   "id": "814dfef3",
   "metadata": {},
   "source": [
    "## FILTER"
   ]
  },
  {
   "cell_type": "code",
   "execution_count": 6,
   "id": "d502e67e",
   "metadata": {},
   "outputs": [
    {
     "name": "stdout",
     "output_type": "stream",
     "text": [
      "[3, 43, 455, 43, 543]\n"
     ]
    }
   ],
   "source": [
    "'''1.Using the given list lis1 = [3,12, 24, 36,43,654,65432,2,654,455,43,543] \n",
    "filter the numbers in list which are not divisible by 2'''\n",
    "lst = [3,12, 24, 36,43,654,65432,2,654,455,43,543] \n",
    "out = list(filter(lambda x:x%2!=0, lst))\n",
    "print (out)"
   ]
  },
  {
   "cell_type": "code",
   "execution_count": 7,
   "id": "69a8bffb",
   "metadata": {},
   "outputs": [
    {
     "name": "stdout",
     "output_type": "stream",
     "text": [
      "[2, 4, 6]\n"
     ]
    }
   ],
   "source": [
    "'''\n",
    "2.For a given list1 = [1, 2, 3, 4, 5, 6] filter only the even numbers (Use filter).\n",
    "'''\n",
    "lst = [1, 2, 3, 4, 5, 6] \n",
    "out = list(filter(lambda x:x%2==0, lst))\n",
    "print (out)"
   ]
  },
  {
   "cell_type": "code",
   "execution_count": 8,
   "id": "e5904354",
   "metadata": {},
   "outputs": [
    {
     "name": "stdout",
     "output_type": "stream",
     "text": [
      "[2, 6, 4, 6]\n"
     ]
    }
   ],
   "source": [
    "'''\n",
    "3. For a given list = [2,3,5,3,6,3,7,4,6,7] filter only the even numbers using user defined function.\n",
    "'''\n",
    "def filter_fun(lst):\n",
    "    out =[]\n",
    "    for i in lst:\n",
    "        if i%2==0:\n",
    "            out.append(i)\n",
    "    return out\n",
    "        \n",
    "\n",
    "lst =  [2,3,5,3,6,3,7,4,6,7]\n",
    "out =filter_fun(lst)\n",
    "print (out)"
   ]
  },
  {
   "cell_type": "code",
   "execution_count": 9,
   "id": "c961cf79",
   "metadata": {},
   "outputs": [
    {
     "name": "stdout",
     "output_type": "stream",
     "text": [
      "[1, 31, 15, 7]\n"
     ]
    }
   ],
   "source": [
    "'''\n",
    "4. For a given list = [1, 12, 31, 4, 15, 6, 7] filter only the odd numbers using user defined function.\n",
    "\n",
    "'''\n",
    "def odd_func(lst):\n",
    "    out =[]\n",
    "    for i in lst:\n",
    "        if i%2!=0:\n",
    "            out.append(i)\n",
    "    return out    \n",
    "\n",
    "lst= [1, 12, 31, 4, 15, 6, 7] \n",
    "out = odd_func(lst)\n",
    "print(out)"
   ]
  },
  {
   "cell_type": "markdown",
   "id": "9cd68adb",
   "metadata": {},
   "source": [
    "## REDUCE"
   ]
  },
  {
   "cell_type": "code",
   "execution_count": 10,
   "id": "95164788",
   "metadata": {},
   "outputs": [
    {
     "name": "stdout",
     "output_type": "stream",
     "text": [
      "24\n"
     ]
    }
   ],
   "source": [
    "'''1.For list = [1, 2, 3, 4] multiply all the elements (use reduce function)'''\n",
    "import functools as ft\n",
    "lst= [1, 2, 3, 4]\n",
    "out = ft.reduce(lambda x,y:x*y, lst)\n",
    "print(out)"
   ]
  },
  {
   "cell_type": "code",
   "execution_count": 11,
   "id": "f565aa76",
   "metadata": {},
   "outputs": [
    {
     "name": "stdout",
     "output_type": "stream",
     "text": [
      "100\n"
     ]
    }
   ],
   "source": [
    "'''\n",
    "2. For list = [ 11 , 13, 15, 16, 2,43 ]  sum all the elements (use reduce function)\n",
    "'''\n",
    "import functools as ft\n",
    "lst= [ 11 , 13, 15, 16, 2,43 ]\n",
    "out = ft.reduce(lambda x,y:x+y, lst)\n",
    "print(out)"
   ]
  },
  {
   "cell_type": "code",
   "execution_count": 13,
   "id": "ed7b9a8d",
   "metadata": {},
   "outputs": [
    {
     "name": "stdout",
     "output_type": "stream",
     "text": [
      "4567\n"
     ]
    }
   ],
   "source": [
    "'''\n",
    "3. Find the maximum value in the list = [543,7,6,4567,7,78,6,6,78,765,678] (use reduce function)\n",
    "'''\n",
    "import functools as ft\n",
    "lst= [543,7,6,4567,7,78,6,6,78,765,678]\n",
    "out = ft.reduce(lambda x,y:x if x>y else y, lst)\n",
    "print(out)"
   ]
  },
  {
   "cell_type": "code",
   "execution_count": 14,
   "id": "cf3151c7",
   "metadata": {},
   "outputs": [
    {
     "name": "stdout",
     "output_type": "stream",
     "text": [
      "6\n"
     ]
    }
   ],
   "source": [
    "'''\n",
    "4. Find the minimum value in the list= [543,7,6,4567,7,78,6,6,78,765,678] (use reduce function)\n",
    "'''\n",
    "import functools as ft\n",
    "lst= [543,7,6,4567,7,78,6,6,78,765,678]\n",
    "out = ft.reduce(lambda x,y:x if x<y else y, lst)\n",
    "print(out)"
   ]
  },
  {
   "cell_type": "code",
   "execution_count": null,
   "id": "832b46c7",
   "metadata": {},
   "outputs": [],
   "source": []
  }
 ],
 "metadata": {
  "kernelspec": {
   "display_name": "Python 3 (ipykernel)",
   "language": "python",
   "name": "python3"
  },
  "language_info": {
   "codemirror_mode": {
    "name": "ipython",
    "version": 3
   },
   "file_extension": ".py",
   "mimetype": "text/x-python",
   "name": "python",
   "nbconvert_exporter": "python",
   "pygments_lexer": "ipython3",
   "version": "3.11.5"
  }
 },
 "nbformat": 4,
 "nbformat_minor": 5
}
