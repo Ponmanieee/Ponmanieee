{
 "cells": [
  {
   "cell_type": "code",
   "execution_count": 1,
   "id": "a545a0a5",
   "metadata": {},
   "outputs": [
    {
     "name": "stdout",
     "output_type": "stream",
     "text": [
      "x is less than y\n"
     ]
    }
   ],
   "source": [
    "\"\"\"1.\t\n",
    "Write a program to check whether x is less than y\n",
    "where, x = 20 and y = 30\n",
    "Assigning x equal to 20 Assigning y equal to 30 \n",
    "If condition x is less then y \n",
    "then go to step 4 print x is less then y\n",
    "\"\"\"\n",
    "x =20\n",
    "y=30\n",
    "if x<y:\n",
    "    print(\"x is less than y\")"
   ]
  },
  {
   "cell_type": "code",
   "execution_count": 2,
   "id": "c1fe3c97",
   "metadata": {},
   "outputs": [
    {
     "name": "stdout",
     "output_type": "stream",
     "text": [
      "invalid score\n"
     ]
    }
   ],
   "source": [
    "\"\"\"2.\t\n",
    "Write a program to check whether the total score \n",
    "(theory --> 100 + practical --> 100) is less than or equal to 200. \n",
    "If it goes beyond 200, print an error or a warning message.\n",
    "Hint:\n",
    "Set, Theory equal to 140 Practical equal to 145 \n",
    "If condition for theory + practical is greater than 200 \n",
    "then, print invalid score\n",
    "\"\"\"\n",
    "theory = 140\n",
    "practical = 145\n",
    "if theory+practical > 200:\n",
    "    print('invalid score')"
   ]
  },
  {
   "cell_type": "code",
   "execution_count": 5,
   "id": "0bbe9598",
   "metadata": {},
   "outputs": [
    {
     "name": "stdout",
     "output_type": "stream",
     "text": [
      "yes\n",
      "Cleared the test\n"
     ]
    }
   ],
   "source": [
    "\"\"\"3.\t\n",
    "Write a python program to check whether the student has passed the subject \n",
    "based on string input yes/no\n",
    "Hint:\n",
    "Get an user input 'yes' / 'no' pass this to variable named 'Subject' \n",
    "Create a If condition, when the Subject value is 'yes' \n",
    "then print 'Cleared the test', Else print 'Failed the test'\n",
    "\"\"\"\n",
    "Subject = input()\n",
    "if Subject =='yes':\n",
    "    print('Cleared the test')\n",
    "else:\n",
    "    print('Failed the test')"
   ]
  },
  {
   "cell_type": "code",
   "execution_count": 6,
   "id": "39d8fc9d",
   "metadata": {},
   "outputs": [
    {
     "name": "stdout",
     "output_type": "stream",
     "text": [
      "Enter the password: great\n",
      "Password Accepted\n"
     ]
    }
   ],
   "source": [
    "\"\"\"4.\t\n",
    "Write a program to get the password from user, \n",
    "check whether the password is 'great'. Through a reply to the user accordingly.\n",
    "Hint:\n",
    "Get password from user, \n",
    "the input statement should be 'Enter the password: ' pass this to \n",
    "variable named 'Password' \n",
    "If passwrod is 'great', print 'Password Accepted' else print 'Wrong Password'\n",
    "\"\"\"\n",
    "Password=input('Enter the password: ')\n",
    "if Password == 'great':\n",
    "    print('Password Accepted')\n",
    "else:\n",
    "    print('Wrong Password')"
   ]
  },
  {
   "cell_type": "code",
   "execution_count": 13,
   "id": "9239b538",
   "metadata": {},
   "outputs": [
    {
     "name": "stdout",
     "output_type": "stream",
     "text": [
      "Enter age: 32\n",
      "You are Eligible to Work; fill in your details and apply.\n"
     ]
    }
   ],
   "source": [
    "\"\"\"1.\tBased on the users age, divide them in to three groups \n",
    "Group 1 : Age <=18 , Minors who are not eligible to work \n",
    "Group 2 : 18<Age<60 , ELigible to work \n",
    "Group 3 : >=60, Too old to work as per govt. regulations.\n",
    "Write a program for the same\n",
    "Hint:\n",
    "Create variable Name age equal to input \n",
    "if condition for age is < 18 go to step 3 , \n",
    "else go to step 5 print Your Minor not Eligible to Work \n",
    "if condition for age >= 18 and age <= 60 go to step 5 , \n",
    "else go to step 6 print Your Eligible to Work \n",
    "fill in your details and apply \n",
    "print Your too old to work as per the Government rules \n",
    "Please Collect your pension\n",
    "\"\"\"\n",
    "age = int(input('Enter age: '))\n",
    "if age<18:\n",
    "    print('You are Minor - not Eligible to Work')\n",
    "elif age >=18 and age <= 60:\n",
    "    print('You are Eligible to Work; fill in your details and apply.')\n",
    "else:\n",
    "    print('Your too old to work as per the Government rules; Please Collect your pension.')"
   ]
  },
  {
   "cell_type": "code",
   "execution_count": 14,
   "id": "6eb0ba12",
   "metadata": {},
   "outputs": [
    {
     "name": "stdout",
     "output_type": "stream",
     "text": [
      "5\n",
      "5\n",
      "4\n",
      "3\n",
      "2\n",
      "1\n"
     ]
    }
   ],
   "source": [
    "\"\"\"1.\tTake an integer as input from the user and print all the numbers from 0 to that number in reverse order.\n",
    "Example : if the input is 3, the output should be 3 2 1\n",
    "Hint:\n",
    "Create variable n using input value give the while loop condition i.e. n > 0 then decrement, n = n-1 print n\n",
    "\"\"\"\n",
    "start_num = int(input())\n",
    "while start_num:\n",
    "    print(start_num)\n",
    "    start_num-=1"
   ]
  },
  {
   "cell_type": "code",
   "execution_count": 2,
   "id": "9b10748c",
   "metadata": {},
   "outputs": [
    {
     "name": "stdout",
     "output_type": "stream",
     "text": [
      "5\n",
      "11\n",
      "22\n",
      "33\n",
      "44\n",
      "55\n",
      "5\n",
      "1\n",
      "4\n",
      "9\n",
      "16\n",
      "25\n"
     ]
    }
   ],
   "source": [
    "\"\"\"2.\tWrite a python code to find the squares of all the numbers based on an input.\n",
    "Example : If the input is 10, the output should be 11 ,22 ,33...... 1010\n",
    "Hint:\n",
    "Create the variable i assigning to 1 \n",
    "Give the while loop condition for i <= 10 \n",
    "print i ** 2 \n",
    "increment i \n",
    "loop will execute until i is less than or equal to 10\n",
    "\"\"\"\n",
    "\n",
    "# To get this answer => Example : If the input is 10, the output should be 11 ,22 ,33...... 1010\n",
    "inp = int(input())\n",
    "i=1\n",
    "while i<=inp:\n",
    "    print(str(i)*2)\n",
    "    i+=1\n",
    "    \n",
    "# Write a python code to find the squares of all the numbers based on an input.\n",
    "inp = int(input())\n",
    "i=1\n",
    "while i<=inp:\n",
    "    print((i)**2)\n",
    "    i+=1"
   ]
  },
  {
   "cell_type": "code",
   "execution_count": 20,
   "id": "aec651c8",
   "metadata": {},
   "outputs": [
    {
     "name": "stdout",
     "output_type": "stream",
     "text": [
      "3\n",
      "3 X 1 = 3\n",
      "3 X 2 = 6\n",
      "3 X 3 = 9\n",
      "3 X 4 = 12\n",
      "3 X 5 = 15\n",
      "3 X 6 = 18\n",
      "3 X 7 = 21\n",
      "3 X 8 = 24\n",
      "3 X 9 = 27\n",
      "3 X 10 = 30\n"
     ]
    }
   ],
   "source": [
    "\"\"\"1.\tWrite a pseudocode to print the multiplication table of a given number.\n",
    "Example : if the user input is 3, the output should be like below :\n",
    "3 X 1 = 3 3 X 2 = 6 ... 3 X 10 =30\n",
    "Hint:\n",
    "Get user input and store it in variable n. \n",
    "Give the For loop condition in the range between (1,11) \n",
    "In print statement give the condition (n,'x',i,'=' ,n*i) \n",
    "This will print the multiplication tables of a given number.\n",
    "\"\"\"\n",
    "inp_num = int(input())\n",
    "for i in range(10):\n",
    "    print('{0} X {1} = {2}'.format(inp_num, i+1, (i+1)*inp_num))"
   ]
  },
  {
   "cell_type": "code",
   "execution_count": 21,
   "id": "3143253d",
   "metadata": {},
   "outputs": [
    {
     "name": "stdout",
     "output_type": "stream",
     "text": [
      "[1, 484, 196, 4096, 961, 14400]\n"
     ]
    }
   ],
   "source": [
    "\"\"\"2.\tWrite a python code to print squares of all numbers present in the list = [1, 22, 14, 64, 31, 120]\n",
    "Hint:\n",
    "Create a list named 'numbers' [1, 22, 14, 64, 31, 120] \n",
    "Create a variable name 'square' and assign 0 to it For loop condition for i in the list square equal to i * i\n",
    "Print square\n",
    "\"\"\"\n",
    "numbers= [1, 22, 14, 64, 31, 120] \n",
    "square =[]\n",
    "for i in numbers:\n",
    "    square.append(i*i)\n",
    "print(square)"
   ]
  },
  {
   "cell_type": "code",
   "execution_count": 26,
   "id": "ed89f3fd",
   "metadata": {},
   "outputs": [
    {
     "name": "stdout",
     "output_type": "stream",
     "text": [
      "red\n",
      "black\n",
      "blue\n"
     ]
    }
   ],
   "source": [
    "\"\"\"1.\tWrite a python program that takes a list ['red','black','blue'] and prints each element in the list using whle loop\"\"\"\n",
    "lst = ['red','black','blue']\n",
    "i=0\n",
    "while i <(len(lst)):\n",
    "    print (lst[i])\n",
    "    i+=1"
   ]
  },
  {
   "cell_type": "code",
   "execution_count": 27,
   "id": "85b6980c",
   "metadata": {},
   "outputs": [
    {
     "name": "stdout",
     "output_type": "stream",
     "text": [
      "red\n",
      "black\n",
      "blue\n"
     ]
    }
   ],
   "source": [
    "\"\"\"2.\tWrite a same program as above using a For loop?\"\"\"\n",
    "lst = ['red','black','blue']\n",
    "for i in lst:\n",
    "    print(i)"
   ]
  },
  {
   "cell_type": "code",
   "execution_count": 4,
   "id": "b1ac1bf4",
   "metadata": {},
   "outputs": [
    {
     "name": "stdout",
     "output_type": "stream",
     "text": [
      "448\n"
     ]
    }
   ],
   "source": [
    "\"\"\"3.\tWrite a Python Program to find the LCM of two numbers?\"\"\"\n",
    "num1 = 56\n",
    "num2 =64\n",
    "if num1>num2:\n",
    "    big = num1\n",
    "else:\n",
    "    big = num2\n",
    "while True:\n",
    "    if big%num1 ==0 and big%num2 ==0:\n",
    "        lcm = big\n",
    "        break\n",
    "    big+=1\n",
    "print(lcm)"
   ]
  },
  {
   "cell_type": "code",
   "execution_count": 31,
   "id": "e8f9646b",
   "metadata": {},
   "outputs": [
    {
     "name": "stdout",
     "output_type": "stream",
     "text": [
      "2\n",
      "1.5\n"
     ]
    }
   ],
   "source": [
    "\"\"\"4.\tPython Program to find the sum of series: 1 + 1/2 + 1/3 + ….. + 1/N.\"\"\"\n",
    "inp= int(input())\n",
    "i=0\n",
    "sum = 0\n",
    "while i < inp:\n",
    "    sum = sum + (1/(i+1))\n",
    "    i+=1\n",
    "print(sum)"
   ]
  },
  {
   "cell_type": "code",
   "execution_count": 35,
   "id": "3813f158",
   "metadata": {},
   "outputs": [
    {
     "data": {
      "text/plain": [
       "[0, 1, 4, 9, 16, 25, 36, 49, 64, 81, 100]"
      ]
     },
     "execution_count": 35,
     "metadata": {},
     "output_type": "execute_result"
    }
   ],
   "source": [
    "\"\"\"List comprehension\n",
    "Write a Python program to get the squares of numbers present in the range of (1-10)\n",
    "●\toutput squares = [0, 1, 4, 9, 16, 25, 36, 49, 64, 81, 100]\n",
    "\"\"\"\n",
    "squares=[]\n",
    "for i in range(11):\n",
    "    squares.append(i*i)\n",
    "    i+=1\n",
    "squares"
   ]
  },
  {
   "cell_type": "code",
   "execution_count": 36,
   "id": "b17ab835",
   "metadata": {},
   "outputs": [
    {
     "data": {
      "text/plain": [
       "[0, 1, 4, 9, 16, 25, 36, 49, 64, 81, 100]"
      ]
     },
     "execution_count": 36,
     "metadata": {},
     "output_type": "execute_result"
    }
   ],
   "source": [
    "\"\"\"For the same question get the desired output using List Comprehension\"\"\"\n",
    "squares = [i*i for i in range(11)]\n",
    "squares"
   ]
  },
  {
   "cell_type": "code",
   "execution_count": 37,
   "id": "787328fd",
   "metadata": {},
   "outputs": [
    {
     "name": "stdout",
     "output_type": "stream",
     "text": [
      "['1', '2', '3', '4', '5']\n"
     ]
    }
   ],
   "source": [
    "\"\"\"2.\tConvert a list of integers to a list of strings, using List comprehension\"\"\"\n",
    "lst = [1,2,3,4,5]\n",
    "str_lst = [str(i) for i in lst]\n",
    "print(str_lst)"
   ]
  },
  {
   "cell_type": "code",
   "execution_count": 45,
   "id": "83817d4b",
   "metadata": {},
   "outputs": [
    {
     "data": {
      "text/plain": [
       "[(0, 'zero'), (0, 'one'), (1, 'zero'), (1, 'one')]"
      ]
     },
     "execution_count": 45,
     "metadata": {},
     "output_type": "execute_result"
    }
   ],
   "source": [
    "\"\"\"3.\tCreate tuples from two lists using List Comprehensions\n",
    "Hint: list1 =[0,1] list2 =['zero','one']\n",
    "Output: [(0, 'zero'), (0, 'one'), (1, 'zero'), (1, 'one')]\n",
    "\"\"\"\n",
    "list1 =[0,1] \n",
    "list2 =['zero','one']\n",
    "out=[]\n",
    "for i in range (len(list1)):\n",
    "    for j in range (len(list2)):\n",
    "        out.append((list1[i], list2[j]))\n",
    "out"
   ]
  },
  {
   "cell_type": "code",
   "execution_count": 46,
   "id": "3b536a9f",
   "metadata": {},
   "outputs": [
    {
     "name": "stdout",
     "output_type": "stream",
     "text": [
      "[0, 1, 2, 3, 4]\n"
     ]
    }
   ],
   "source": [
    "\"\"\"4.\tGet Index of Each Element of List using enumerate in List Comprehension\"\"\"\n",
    "lst = [1,4,6,8,2]\n",
    "indx = [indx for indx, ele in enumerate(lst)]\n",
    "print(indx)"
   ]
  },
  {
   "cell_type": "code",
   "execution_count": null,
   "id": "288dd2d8",
   "metadata": {},
   "outputs": [],
   "source": []
  }
 ],
 "metadata": {
  "kernelspec": {
   "display_name": "Python 3 (ipykernel)",
   "language": "python",
   "name": "python3"
  },
  "language_info": {
   "codemirror_mode": {
    "name": "ipython",
    "version": 3
   },
   "file_extension": ".py",
   "mimetype": "text/x-python",
   "name": "python",
   "nbconvert_exporter": "python",
   "pygments_lexer": "ipython3",
   "version": "3.11.5"
  }
 },
 "nbformat": 4,
 "nbformat_minor": 5
}
