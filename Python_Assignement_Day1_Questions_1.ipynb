{
  "cells": [
    {
      "cell_type": "markdown",
      "metadata": {
        "id": "view-in-github",
        "colab_type": "text"
      },
      "source": [
        "<a href=\"https://colab.research.google.com/github/Ponmanieee/Ponmanieee/blob/main/Python_Assignement_Day1_Questions_1.ipynb\" target=\"_parent\"><img src=\"https://colab.research.google.com/assets/colab-badge.svg\" alt=\"Open In Colab\"/></a>"
      ]
    },
    {
      "cell_type": "markdown",
      "metadata": {
        "id": "D-KgkVX3IZ-S"
      },
      "source": [
        "1.  Python Program to exchange the values of two numbers without using a temporary variable."
      ]
    },
    {
      "cell_type": "code",
      "execution_count": 4,
      "metadata": {
        "colab": {
          "base_uri": "https://localhost:8080/"
        },
        "id": "yldf_YhdIZ-T",
        "outputId": "443f658a-7658-4527-a772-9eb0614b5af3"
      },
      "outputs": [
        {
          "output_type": "stream",
          "name": "stdout",
          "text": [
            "Given a and b are 7 4\n",
            "a is 4\n",
            "b is 7\n"
          ]
        }
      ],
      "source": [
        "a = 7\n",
        "b = 4\n",
        "print(\"Given a and b are\", a, b)\n",
        "a = a+b\n",
        "b = a-b\n",
        "a = a-b\n",
        "print(\"a is\", a)\n",
        "print(\"b is\", b)"
      ]
    },
    {
      "cell_type": "markdown",
      "metadata": {
        "id": "MrK3aZMGIZ-Y"
      },
      "source": [
        "2. Write a python code to replace all  \"a\"  with 2 for the given variable\n",
        "s = 'abc12321cba'"
      ]
    },
    {
      "cell_type": "code",
      "execution_count": 6,
      "metadata": {
        "colab": {
          "base_uri": "https://localhost:8080/"
        },
        "id": "J7rr7O5XIZ-Z",
        "outputId": "3a88e5f4-cfd1-4f67-e2b9-7c9a97ca53bc"
      },
      "outputs": [
        {
          "output_type": "stream",
          "name": "stdout",
          "text": [
            "Updated s is 2bc12321cb2\n"
          ]
        }
      ],
      "source": [
        "s = 'abc12321cba'\n",
        "s = s.replace('a','2')\n",
        "print(\"Updated s is\", s)"
      ]
    },
    {
      "cell_type": "markdown",
      "metadata": {
        "id": "Zo8gMGlbIZ-g"
      },
      "source": [
        "3. Python code for to  remove first character in string?"
      ]
    },
    {
      "cell_type": "code",
      "execution_count": 25,
      "metadata": {
        "colab": {
          "base_uri": "https://localhost:8080/"
        },
        "id": "XTIKmVpiIZ-h",
        "outputId": "d07c7506-735a-42a3-ed9a-c64f22405951"
      },
      "outputs": [
        {
          "output_type": "stream",
          "name": "stdout",
          "text": [
            "s after removing first char: bc\n"
          ]
        }
      ],
      "source": [
        "s = 'sbc'\n",
        "if len(s) >=1:\n",
        "  print(\"s after removing first char:\", s[1:])\n",
        "else:\n",
        "  print(\"s is a null string\")\n"
      ]
    },
    {
      "cell_type": "markdown",
      "metadata": {
        "id": "XBhfFfEIIZ-n"
      },
      "source": [
        "4. Concatenate two strings  \n",
        "First Input : \"hello\"\n",
        "Second Input : \"guvi\"\n",
        "desired output :   \"hello guvi\""
      ]
    },
    {
      "cell_type": "code",
      "execution_count": 11,
      "metadata": {
        "colab": {
          "base_uri": "https://localhost:8080/"
        },
        "id": "qVhNDe9mIZ-p",
        "outputId": "d78fdc08-53f7-4c61-c985-a8c751cb833b"
      },
      "outputs": [
        {
          "output_type": "stream",
          "name": "stdout",
          "text": [
            "hello\n",
            "guvi\n",
            "hello guvi\n",
            "hello guvi\n"
          ]
        }
      ],
      "source": [
        "inp1 = input()\n",
        "inp2 = input()\n",
        "#print(inp1,inp2)\n",
        "print(inp1+ \" \"+ inp2)"
      ]
    },
    {
      "cell_type": "markdown",
      "metadata": {
        "id": "W1CyejMTIZ-t"
      },
      "source": [
        "5. Repeat the string \"hello guvi\" 3 times\n",
        "desired output :  'hello guvi hello guvi hello guvi '"
      ]
    },
    {
      "cell_type": "code",
      "execution_count": 13,
      "metadata": {
        "colab": {
          "base_uri": "https://localhost:8080/"
        },
        "id": "6B83XYHVIZ-u",
        "outputId": "cfde33ac-7152-4ff1-94b7-6e1899da1e77"
      },
      "outputs": [
        {
          "output_type": "stream",
          "name": "stdout",
          "text": [
            "hello guvi hello guvi hello guvi \n"
          ]
        }
      ],
      "source": [
        "inp = \"hello guvi \"\n",
        "print (inp*3)"
      ]
    },
    {
      "cell_type": "markdown",
      "metadata": {
        "id": "4oblWnrSIZ-y"
      },
      "source": [
        "6. Create 3 variables a1,a2,a3. Assign the same value \" 4 \" to all the variables in a single line of code."
      ]
    },
    {
      "cell_type": "code",
      "execution_count": 16,
      "metadata": {
        "id": "O7nH3nd-IZ-y"
      },
      "outputs": [],
      "source": [
        "a1 = a2 = a3 = 4\n",
        "#print(a3)\n",
        "#print(a2)"
      ]
    },
    {
      "cell_type": "markdown",
      "metadata": {
        "id": "fs_t4D-oIZ-2"
      },
      "source": [
        "7. Calculate BMI of a person using the height and weight.\n",
        "BMI = weight / (height **2)\n"
      ]
    },
    {
      "cell_type": "code",
      "execution_count": 20,
      "metadata": {
        "colab": {
          "base_uri": "https://localhost:8080/"
        },
        "id": "N_VZSoYjIZ-3",
        "outputId": "e8e3b571-e626-4ec7-af12-fe62f23d8335"
      },
      "outputs": [
        {
          "output_type": "stream",
          "name": "stdout",
          "text": [
            "Enter your height in m: 1.56\n",
            "Enter your weight in kg: 46\n",
            "BMI is  18.902038132807363\n"
          ]
        }
      ],
      "source": [
        "h = float(input(\"Enter your height in m: \"))\n",
        "w = float(input(\"Enter your weight in kg: \"))\n",
        "print(\"BMI is \", (w/(h**2)))"
      ]
    },
    {
      "cell_type": "markdown",
      "metadata": {
        "id": "JgXK2m28IZ-7"
      },
      "source": [
        "8.Write a python program to calculate the area of circle."
      ]
    },
    {
      "cell_type": "code",
      "execution_count": 21,
      "metadata": {
        "colab": {
          "base_uri": "https://localhost:8080/"
        },
        "id": "m73v7qoCIZ-8",
        "outputId": "4a927ed7-5c55-4600-cfc0-ac355067a0e4"
      },
      "outputs": [
        {
          "output_type": "stream",
          "name": "stdout",
          "text": [
            "Enter the radius of the circle: 5\n",
            "Area of the circle:  78.53981633974483\n"
          ]
        }
      ],
      "source": [
        "import math\n",
        "r = int(input(\"Enter the radius of the circle in m: \"))\n",
        "print(\"Area of the circle in m2: \", math.pi *r*r)"
      ]
    },
    {
      "cell_type": "markdown",
      "metadata": {
        "id": "BHXFt9VwIZ_A"
      },
      "source": [
        "9.Calculate the simple interest\n",
        "simple_interest = p * n * r /100"
      ]
    },
    {
      "cell_type": "code",
      "execution_count": 23,
      "metadata": {
        "colab": {
          "base_uri": "https://localhost:8080/"
        },
        "id": "7wHLjXC4IZ_B",
        "outputId": "b0294874-0555-4554-d187-f61ff13a5255"
      },
      "outputs": [
        {
          "output_type": "stream",
          "name": "stdout",
          "text": [
            "Enter the principal: 10000\n",
            "Enter the no of years2\n",
            "Enter the rate of interest7.4\n",
            "Simple interest is:  1480.0\n"
          ]
        }
      ],
      "source": [
        "p = float(input(\"Enter the principal: \"))\n",
        "n = int(input(\"Enter the no of years\"))\n",
        "r = float(input(\"Enter the rate of interest\"))\n",
        "print(\"Simple interest is: \", (p*n*r/100.0))"
      ]
    },
    {
      "cell_type": "markdown",
      "metadata": {
        "id": "afLADSCGIZ_G"
      },
      "source": [
        "10.Python code to calculate the square root of the given number(run time variable)"
      ]
    },
    {
      "cell_type": "code",
      "execution_count": 24,
      "metadata": {
        "colab": {
          "base_uri": "https://localhost:8080/"
        },
        "id": "XBTku4euIZ_H",
        "outputId": "09b38f30-14b3-425e-8ef2-a24b49f022a1"
      },
      "outputs": [
        {
          "output_type": "stream",
          "name": "stdout",
          "text": [
            "Enter a number: 5\n",
            "Its square root is  2.23606797749979\n"
          ]
        }
      ],
      "source": [
        "import math\n",
        "inp = int(input(\"Enter a number: \"))\n",
        "print(\"Its square root is \", math.sqrt(inp))"
      ]
    }
  ],
  "metadata": {
    "colab": {
      "provenance": [],
      "include_colab_link": true
    },
    "kernelspec": {
      "display_name": "Python 3 (ipykernel)",
      "language": "python",
      "name": "python3"
    },
    "language_info": {
      "codemirror_mode": {
        "name": "ipython",
        "version": 3
      },
      "file_extension": ".py",
      "mimetype": "text/x-python",
      "name": "python",
      "nbconvert_exporter": "python",
      "pygments_lexer": "ipython3",
      "version": "3.9.13"
    }
  },
  "nbformat": 4,
  "nbformat_minor": 0
}