{
  "nbformat": 4,
  "nbformat_minor": 0,
  "metadata": {
    "colab": {
      "provenance": []
    },
    "kernelspec": {
      "name": "python3",
      "display_name": "Python 3"
    },
    "language_info": {
      "name": "python"
    }
  },
  "cells": [
    {
      "cell_type": "markdown",
      "source": [
        "# Python List:\n",
        "1. Create your own lists otherwise use the List1 = ['hello','GUVI','GEEK']  to perform the below Python list  Operations?\n",
        "   A. Repetition (*)\n",
        "   B. Concatenation (+)\n",
        "   C. Membership\n",
        "   D. Length\n",
        "   E. Iteration\n",
        "   "
      ],
      "metadata": {
        "id": "6KV50uysOPbp"
      }
    },
    {
      "cell_type": "code",
      "source": [
        "#A. Repetition\n",
        "List1 = ['hello','GUVI','GEEK']\n",
        "print (List1*2)"
      ],
      "metadata": {
        "colab": {
          "base_uri": "https://localhost:8080/"
        },
        "id": "HiQOEqSqOaJf",
        "outputId": "9d338214-a87b-4644-91d8-582e3c915bd5"
      },
      "execution_count": 2,
      "outputs": [
        {
          "output_type": "stream",
          "name": "stdout",
          "text": [
            "['hello', 'GUVI', 'GEEK', 'hello', 'GUVI', 'GEEK']\n"
          ]
        }
      ]
    },
    {
      "cell_type": "code",
      "source": [
        "#B. Concatenation\n",
        "List1 = ['hello','GUVI','GEEK']\n",
        "List2 = ['Oct', '2023']\n",
        "print(List1 + List2)"
      ],
      "metadata": {
        "colab": {
          "base_uri": "https://localhost:8080/"
        },
        "id": "8fNEC5O0Ou3c",
        "outputId": "84c6be05-8ea9-4ab7-aa91-4ad67e8fcdfc"
      },
      "execution_count": 3,
      "outputs": [
        {
          "output_type": "stream",
          "name": "stdout",
          "text": [
            "['hello', 'GUVI', 'GEEK', 'Oct', '2023']\n"
          ]
        }
      ]
    },
    {
      "cell_type": "code",
      "source": [
        "#C. Membership\n",
        "List1 = ['hello','GUVI','GEEK']\n",
        "if 'GUVI' in List1:\n",
        "  print('GUVI is there in the list')\n",
        "else:\n",
        "  print('GUVI not found')"
      ],
      "metadata": {
        "colab": {
          "base_uri": "https://localhost:8080/"
        },
        "id": "4PmqZJHUPJk1",
        "outputId": "91b78397-5588-42b7-b0ee-f1614b2b4770"
      },
      "execution_count": 4,
      "outputs": [
        {
          "output_type": "stream",
          "name": "stdout",
          "text": [
            "GUVI is there in the list\n"
          ]
        }
      ]
    },
    {
      "cell_type": "code",
      "source": [
        "#D. Length\n",
        "List1 = ['hello','GUVI','GEEK']\n",
        "print (len(List1))"
      ],
      "metadata": {
        "colab": {
          "base_uri": "https://localhost:8080/"
        },
        "id": "MG0j50j0PetE",
        "outputId": "f1f90278-5eaa-4641-94fe-3069cd247d5c"
      },
      "execution_count": 5,
      "outputs": [
        {
          "output_type": "stream",
          "name": "stdout",
          "text": [
            "3\n"
          ]
        }
      ]
    },
    {
      "cell_type": "code",
      "source": [
        "#E. Iteration\n",
        "List1 = ['hello','GUVI','GEEK']\n",
        "for val in List1:\n",
        "  print(val)"
      ],
      "metadata": {
        "colab": {
          "base_uri": "https://localhost:8080/"
        },
        "id": "_kIYlrGcPmqp",
        "outputId": "ce0a6915-3772-457c-ec9c-2e3157df2ad7"
      },
      "execution_count": 6,
      "outputs": [
        {
          "output_type": "stream",
          "name": "stdout",
          "text": [
            "hello\n",
            "GUVI\n",
            "GEEK\n"
          ]
        }
      ]
    },
    {
      "cell_type": "markdown",
      "source": [
        "2.1. Create your own lists to perform the below Python List Built-in functions?\n",
        "otherwise use the\n",
        "                   List1 = [15, 300, 2700, 821]\n",
        "                   List2 = [12, 2]\n",
        "                   List3 = [34, 567, 78]\n",
        "   A.  max(list)    \n",
        "   B.  min(list)    \n",
        "   C.  list(seq)      \n",
        "\n"
      ],
      "metadata": {
        "id": "SJbVA9guPwxj"
      }
    },
    {
      "cell_type": "code",
      "source": [
        "List1 = [15, 300, 2700, 821]\n",
        "List2 = [12, 2]\n",
        "List3 = [34, 567, 78]\n",
        "print('Max of list1, list2, list3 - {}, {}, {}'.format( max(List1), max(List2), max(List3)))\n",
        "print('Min of list1, list2, list3 -{}, {}, {}'.format( min(List1), min(List2), min(List3)))\n",
        "seq = '123'\n",
        "print(list(seq))\n"
      ],
      "metadata": {
        "colab": {
          "base_uri": "https://localhost:8080/"
        },
        "id": "JwHYjksbP2kp",
        "outputId": "99f8f966-3f43-4459-e8b0-5760fe0ce512"
      },
      "execution_count": 11,
      "outputs": [
        {
          "output_type": "stream",
          "name": "stdout",
          "text": [
            "Max of list1, list2, list3 - 2700, 12, 567\n",
            "Min of list1, list2, list3 -15, 2, 34\n",
            "['1', '2', '3']\n"
          ]
        }
      ]
    },
    {
      "cell_type": "markdown",
      "source": [
        "3. Create your own lists to perform the below Python List built-in methods\n",
        "   A.  list.append()\n",
        "   B.  list.clear()   \n",
        "   C.  List.copy()          \n",
        "   D.  list.count()         \n",
        "   E.  list.extend()    \n",
        "   F.  list.index()\n",
        "   G.  list.insert()  \n",
        "   H.  list.pop()\n",
        "   I.  list.remove()    \n",
        "   J.  list.reverse()         \n",
        "   K.  list.sort()\n"
      ],
      "metadata": {
        "id": "bvwZzxI0SCwP"
      }
    },
    {
      "cell_type": "code",
      "source": [
        "l1 = [2,3,1,5,7,3,2]\n",
        "l2 = [1,6,3]\n",
        "l3 = [1,6,3]\n",
        "l1.append(10)\n",
        "print('After appending 10 to l1 -', l1)\n",
        "l2.clear()\n",
        "print('After clearing l2 - ',l2)\n",
        "l2 = l1.copy()\n",
        "print('After copying l1 to l2, l2 becomes', l2)\n",
        "print('No of times 3 in l2 is', l2.count(3))\n",
        "l2.extend(l3)\n",
        "print('After extending l2 with l3, l2 becomes', l2)\n",
        "print('index of 1 in l1', l1.index(1))\n",
        "l1.pop(7)\n",
        "print('after popping the 7th index from l1, l1 is', l1)\n",
        "l1.insert(5, 11)\n",
        "print('l1 after inserting 11 in 5th index', l1)\n",
        "l1.remove(2)\n",
        "print('After removing the first occuerence of 2, l1 becomes', l1)\n",
        "l1.reverse()\n",
        "print('after reversing l1', l1)\n",
        "l1.sort()\n",
        "print('After sorting l1 becomes', l1)"
      ],
      "metadata": {
        "colab": {
          "base_uri": "https://localhost:8080/"
        },
        "id": "WuUIzR4pSFKc",
        "outputId": "23d6c49a-a81b-41f5-f72c-521153090b1e"
      },
      "execution_count": 29,
      "outputs": [
        {
          "output_type": "stream",
          "name": "stdout",
          "text": [
            "After appending 10 to l1 - [2, 3, 1, 5, 7, 3, 2, 10]\n",
            "After clearing l2 -  []\n",
            "After copying l1 to l2, l2 becomes [2, 3, 1, 5, 7, 3, 2, 10]\n",
            "No of times 3 in l2 is 2\n",
            "After extending l2 with l3, l2 becomes [2, 3, 1, 5, 7, 3, 2, 10, 1, 6, 3]\n",
            "index of 1 in l1 2\n",
            "after popping the 7th index from l1, l1 is [2, 3, 1, 5, 7, 3, 2]\n",
            "l1 after inserting 11 in 5th index [2, 3, 1, 5, 7, 11, 3, 2]\n",
            "After removing the first occuerence of 2, l1 becomes [3, 1, 5, 7, 11, 3, 2]\n",
            "after reversing l1 [2, 3, 11, 7, 5, 1, 3]\n",
            "After sorting l1 becomes [1, 2, 3, 3, 5, 7, 11]\n"
          ]
        }
      ]
    },
    {
      "cell_type": "markdown",
      "source": [
        "# Python Tuple\n",
        "Create your own Tuple to perform the below Python tuple Operations ?\n",
        "otherwise use the below\n",
        "               Tuple1 = ('a','b','c','d')\n",
        "               Tuple2 = ('e','f','g','h')\n",
        "1. Tuple Operations\n",
        "\n",
        "\n",
        "   A. Repetition (*)\n",
        "   B. Concatenation (+)\n",
        "   C. Membership\n",
        "   D. Length\n",
        "   E. Iteration\n"
      ],
      "metadata": {
        "id": "iMuchK7ZXIEM"
      }
    },
    {
      "cell_type": "code",
      "source": [
        "#A. Repetition\n",
        "tup1 = ('a','b','c','d')\n",
        "print (tup1*2)\n",
        "#B. Concatenation\n",
        "tup1 = ('a','b','c','d')\n",
        "tup2 =  ('e','f','g','h')\n",
        "print(tup1 + tup2)\n",
        "#C. Membership\n",
        "tup1 =  ('a','b','c','d')\n",
        "if 'GUVI' in tup1:\n",
        "  print('GUVI is there in the list')\n",
        "else:\n",
        "  print('GUVI not found')\n",
        "#D. Length\n",
        "tup1 =  ('a','b','c','d')\n",
        "print (len(tup1))\n",
        "#E. Iteration\n",
        "tup1 = ('a','b','c','d')\n",
        "for val in tup1:\n",
        "  print(val)"
      ],
      "metadata": {
        "colab": {
          "base_uri": "https://localhost:8080/"
        },
        "id": "5qE5A1fUXKcR",
        "outputId": "9aa62296-b6bd-450a-8400-b91bf076a9f4"
      },
      "execution_count": 31,
      "outputs": [
        {
          "output_type": "stream",
          "name": "stdout",
          "text": [
            "('a', 'b', 'c', 'd', 'a', 'b', 'c', 'd')\n",
            "('a', 'b', 'c', 'd', 'e', 'f', 'g', 'h')\n",
            "GUVI not found\n",
            "4\n",
            "a\n",
            "b\n",
            "c\n",
            "d\n"
          ]
        }
      ]
    },
    {
      "cell_type": "markdown",
      "source": [
        "2.Create your own Tuple to perform the below Python tuple inbuilt functions ?\n",
        "otherwise use the below\n",
        "           Tuple1 = (1,4,2,4,5,6,3,5,4,6,77,8,7,7,876,89,8765,4,5,1,876,9,3456,4234)\n",
        "       \n",
        "        A. max(Tuple)   \n",
        "        B. min(Tuple)     \n",
        "        C. Tuple(seq)     \n"
      ],
      "metadata": {
        "id": "iM6BgM0QX31l"
      }
    },
    {
      "cell_type": "code",
      "source": [
        "Tuple1 = (1,4,2,4,5,6,3,5,4,6,77,8,7,7,876,89,8765,4,5,1,876,9,3456,4234)\n",
        "print('Max of Tuple1 {}'.format( max(Tuple1)))\n",
        "print('Min of Tuple1 {}'.format( min(Tuple1)))\n",
        "seq = '123'\n",
        "print(list(seq))"
      ],
      "metadata": {
        "colab": {
          "base_uri": "https://localhost:8080/"
        },
        "id": "OGX2qXSiX_j7",
        "outputId": "f34569df-defa-4454-820b-cf2a7edc06c9"
      },
      "execution_count": 32,
      "outputs": [
        {
          "output_type": "stream",
          "name": "stdout",
          "text": [
            "Max of Tuple1 8765\n",
            "Min of Tuple1 1\n",
            "['1', '2', '3']\n"
          ]
        }
      ]
    },
    {
      "cell_type": "markdown",
      "source": [
        "# Python Set\n",
        "Create your own Set to operate the below Python Set Operations ?\n",
        "otherwise use the below set:\n",
        "       Set1 = {1,4,2,4,5,6,3,5,4,6,77,8,7,7,876}\n",
        "       Set2 = {3,432,5,6,4,6,7,6,5,6,54,567,5}\n",
        "   \n",
        "1. Set Operations\n",
        "    A. Union\n",
        "    B. Intersection\n",
        "    C. Difference\n",
        "    D. Symmetric difference\n",
        "\n"
      ],
      "metadata": {
        "id": "D_mRPL_aYaIO"
      }
    },
    {
      "cell_type": "code",
      "source": [
        "Set1 = {1,4,2,4,5,6,3,5,4,6,77,8,7,7,876}\n",
        "Set2 = {3,432,5,6,4,6,7,6,5,6,54,567,5}\n",
        "print('Union of both sets', Set1.union(Set2))\n",
        "print('Intersection of both sets',Set1.intersection(Set2))\n",
        "print('Set1 - Set2 ',Set1.difference(Set2))\n",
        "print('Non- common entries from both sets', Set1.symmetric_difference(Set2))"
      ],
      "metadata": {
        "colab": {
          "base_uri": "https://localhost:8080/"
        },
        "id": "IBxbPjASYiuh",
        "outputId": "52b4a1c2-abb0-475a-ef27-e0183913763e"
      },
      "execution_count": 36,
      "outputs": [
        {
          "output_type": "stream",
          "name": "stdout",
          "text": [
            "Union of both sets {1, 2, 3, 4, 5, 6, 7, 8, 876, 77, 432, 54, 567}\n",
            "Intersection of both sets {3, 4, 5, 6, 7}\n",
            "Set1 - Set2  {1, 2, 8, 876, 77}\n",
            "Non- common entries from both sets {1, 2, 8, 876, 77, 432, 54, 567}\n"
          ]
        }
      ]
    },
    {
      "cell_type": "markdown",
      "source": [
        "\n",
        "# Python Dictionary\n",
        "Create your own Dictionary to perform the below Python Built-in Dictionary functions\n",
        "otherwise use the below Dictionary:\n",
        "                           dict = {'Name': 'Student', 'Age': 27};\n",
        "   A.  len(dict)    \n",
        "   B.  str(dict)      \n",
        "   C.  type(variable)\n"
      ],
      "metadata": {
        "id": "44clVeDNZi6x"
      }
    },
    {
      "cell_type": "code",
      "source": [
        "dict = {'Name': 'Student', 'Age': 27}\n",
        "print(len(dict))\n",
        "print(str(dict))\n",
        "print(type(dict))"
      ],
      "metadata": {
        "colab": {
          "base_uri": "https://localhost:8080/"
        },
        "id": "jUJ8UxdTZipR",
        "outputId": "f6e67f2e-1baa-49aa-913c-6fac05bf632b"
      },
      "execution_count": 37,
      "outputs": [
        {
          "output_type": "stream",
          "name": "stdout",
          "text": [
            "2\n",
            "{'Name': 'Student', 'Age': 27}\n",
            "<class 'dict'>\n"
          ]
        }
      ]
    },
    {
      "cell_type": "markdown",
      "source": [
        "2.Create your own Dictionary to perform the below Python Built-in Dictionary methods\n",
        "otherwise use the below Dictionary:\n",
        "\n",
        "                           dictionaries = {0:\" Data\",1: \"GUVI\", 2: \"GEEK\",3:\"Python\",4:\"Happy\"}\n",
        "   A.  dic.clear()\n",
        "   B.  dict.copy()  \n",
        "   C.  dict.fromkeys()\n",
        "   D.  dict.get(key[, value])    \n",
        "   E.  dict.items()   \n",
        "   F.  dict.keys()   \n",
        "   G.  dict.setdefault()  \n",
        "   H.  dict.update()  \n",
        "   I.  dict.values()  \n"
      ],
      "metadata": {
        "id": "RY1nHY7WZobO"
      }
    },
    {
      "cell_type": "code",
      "source": [
        "dict = {0:\" Data\",1: \"GUVI\", 2: \"GEEK\",3:\"Python\",4:\"Happy\"}\n",
        "dict1={'name':'Ravi', 'Age': 34, 'Job':'Electronics Engineer'}\n",
        "dict.clear()\n",
        "print(dict)\n",
        "dict=(dict1).copy()\n",
        "print(dict)\n",
        "keys = ['Name', 'Age', 'Job']\n",
        "values = ['Ravi', 34, 'Electronics Engineer']\n",
        "dict.fromkeys(keys,values)\n",
        "print(dict)\n",
        "print(dict.items())\n",
        "print(dict.keys())\n",
        "dict.setdefault('Age',32)\n",
        "print(dict)\n",
        "dict.update({'Salary':75432, 'Age':32})\n",
        "print(dict)\n",
        "print(dict.values())\n",
        "print(dict.get('Salary', 80000))\n",
        "print(dict.get('Family', 'Good and caring family'))\n"
      ],
      "metadata": {
        "colab": {
          "base_uri": "https://localhost:8080/"
        },
        "id": "lfWqGGWKaPfh",
        "outputId": "58728769-b501-47dd-82f6-b26fc409fe80"
      },
      "execution_count": 55,
      "outputs": [
        {
          "output_type": "stream",
          "name": "stdout",
          "text": [
            "{}\n",
            "{'name': 'Ravi', 'Age': 34, 'Job': 'Electronics Engineer'}\n",
            "{'name': 'Ravi', 'Age': 34, 'Job': 'Electronics Engineer'}\n",
            "dict_items([('name', 'Ravi'), ('Age', 34), ('Job', 'Electronics Engineer')])\n",
            "dict_keys(['name', 'Age', 'Job'])\n",
            "{'name': 'Ravi', 'Age': 34, 'Job': 'Electronics Engineer'}\n",
            "{'name': 'Ravi', 'Age': 32, 'Job': 'Electronics Engineer', 'Salary': 75432}\n",
            "dict_values(['Ravi', 32, 'Electronics Engineer', 75432])\n",
            "75432\n",
            "Good and caring family\n"
          ]
        }
      ]
    },
    {
      "cell_type": "markdown",
      "source": [
        "# Conditional Statements\n",
        "   1. IF\n",
        "   2. IF-ELSE\n",
        "   3. If...Elif...Else\n",
        "\n",
        "1. Write if statement 13 is greater than 25?\n",
        "2.  Write a if else  statement to find if the number is divisible by 25?\n",
        "3.Using the three variables 'a = 154; b = 2451; c = 6054',\n",
        "Write a If...Elif...Else statement to find the greatest number\n"
      ],
      "metadata": {
        "id": "BwL5njNxZuWt"
      }
    },
    {
      "cell_type": "code",
      "source": [
        "if(13>25):\n",
        "  print('This wont happen')\n",
        "else:\n",
        "  print('13<25')\n",
        "\n",
        "num = int(input('enter a number: '))\n",
        "if num%25 ==0:\n",
        "  print(num, 'is divisible by 25')\n",
        "else:\n",
        "  print(num, 'is not divisible by 25')\n",
        "\n",
        "a = 5154\n",
        "b = 8451\n",
        "c = 605\n",
        "if a>b:\n",
        "  if a>c:\n",
        "    print(a, 'is greatest')\n",
        "  else:\n",
        "    print(c, 'is greatest')\n",
        "elif b>c:\n",
        "  print(b, 'is greatest')\n",
        "else:\n",
        "  print(c, 'is greatest')\n"
      ],
      "metadata": {
        "colab": {
          "base_uri": "https://localhost:8080/"
        },
        "id": "S_awkUFXe9_5",
        "outputId": "0794a2f1-d1cf-44c5-abde-8d590f531184"
      },
      "execution_count": 54,
      "outputs": [
        {
          "output_type": "stream",
          "name": "stdout",
          "text": [
            "13<25\n",
            "enter a number: 87\n",
            "8451 is greatest\n"
          ]
        }
      ]
    }
  ]
}